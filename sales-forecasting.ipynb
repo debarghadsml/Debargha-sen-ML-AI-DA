{
 "cells": [
  {
   "cell_type": "code",
   "execution_count": 1,
   "id": "2de8dc39",
   "metadata": {
    "_cell_guid": "b1076dfc-b9ad-4769-8c92-a6c4dae69d19",
    "_uuid": "8f2839f25d086af736a60e9eeb907d3b93b6e0e5",
    "execution": {
     "iopub.execute_input": "2023-06-22T11:47:42.801680Z",
     "iopub.status.busy": "2023-06-22T11:47:42.801122Z",
     "iopub.status.idle": "2023-06-22T11:47:42.824341Z",
     "shell.execute_reply": "2023-06-22T11:47:42.823016Z"
    },
    "papermill": {
     "duration": 0.048426,
     "end_time": "2023-06-22T11:47:42.827100",
     "exception": false,
     "start_time": "2023-06-22T11:47:42.778674",
     "status": "completed"
    },
    "tags": []
   },
   "outputs": [
    {
     "name": "stdout",
     "output_type": "stream",
     "text": [
      "/kaggle/input/sales-forecasting/train.csv\n"
     ]
    }
   ],
   "source": [
    "# This Python 3 environment comes with many helpful analytics libraries installed\n",
    "# It is defined by the kaggle/python Docker image: https://github.com/kaggle/docker-python\n",
    "# For example, here's several helpful packages to load\n",
    "\n",
    "import numpy as np # linear algebra\n",
    "import pandas as pd # data processing, CSV file I/O (e.g. pd.read_csv)\n",
    "\n",
    "# Input data files are available in the read-only \"../input/\" directory\n",
    "# For example, running this (by clicking run or pressing Shift+Enter) will list all files under the input directory\n",
    "\n",
    "import os\n",
    "for dirname, _, filenames in os.walk('/kaggle/input'):\n",
    "    for filename in filenames:\n",
    "        print(os.path.join(dirname, filename))\n",
    "\n",
    "# You can write up to 20GB to the current directory (/kaggle/working/) that gets preserved as output when you create a version using \"Save & Run All\" \n",
    "# You can also write temporary files to /kaggle/temp/, but they won't be saved outside of the current session"
   ]
  },
  {
   "cell_type": "code",
   "execution_count": 2,
   "id": "fc2ab11d",
   "metadata": {
    "execution": {
     "iopub.execute_input": "2023-06-22T11:47:42.870762Z",
     "iopub.status.busy": "2023-06-22T11:47:42.870084Z",
     "iopub.status.idle": "2023-06-22T11:47:44.224025Z",
     "shell.execute_reply": "2023-06-22T11:47:44.222899Z"
    },
    "papermill": {
     "duration": 1.378498,
     "end_time": "2023-06-22T11:47:44.226875",
     "exception": false,
     "start_time": "2023-06-22T11:47:42.848377",
     "status": "completed"
    },
    "tags": []
   },
   "outputs": [],
   "source": [
    "import numpy as np\n",
    "import pandas as pd\n",
    "import matplotlib.pyplot as plt\n",
    "import seaborn as sns\n"
   ]
  },
  {
   "cell_type": "code",
   "execution_count": 3,
   "id": "f396dab8",
   "metadata": {
    "execution": {
     "iopub.execute_input": "2023-06-22T11:47:44.270114Z",
     "iopub.status.busy": "2023-06-22T11:47:44.269715Z",
     "iopub.status.idle": "2023-06-22T11:47:44.416560Z",
     "shell.execute_reply": "2023-06-22T11:47:44.415387Z"
    },
    "papermill": {
     "duration": 0.171872,
     "end_time": "2023-06-22T11:47:44.419433",
     "exception": false,
     "start_time": "2023-06-22T11:47:44.247561",
     "status": "completed"
    },
    "tags": []
   },
   "outputs": [
    {
     "data": {
      "text/html": [
       "<div>\n",
       "<style scoped>\n",
       "    .dataframe tbody tr th:only-of-type {\n",
       "        vertical-align: middle;\n",
       "    }\n",
       "\n",
       "    .dataframe tbody tr th {\n",
       "        vertical-align: top;\n",
       "    }\n",
       "\n",
       "    .dataframe thead th {\n",
       "        text-align: right;\n",
       "    }\n",
       "</style>\n",
       "<table border=\"1\" class=\"dataframe\">\n",
       "  <thead>\n",
       "    <tr style=\"text-align: right;\">\n",
       "      <th></th>\n",
       "      <th>Row ID</th>\n",
       "      <th>Order ID</th>\n",
       "      <th>Order Date</th>\n",
       "      <th>Ship Date</th>\n",
       "      <th>Ship Mode</th>\n",
       "      <th>Customer ID</th>\n",
       "      <th>Customer Name</th>\n",
       "      <th>Segment</th>\n",
       "      <th>Country</th>\n",
       "      <th>City</th>\n",
       "      <th>State</th>\n",
       "      <th>Postal Code</th>\n",
       "      <th>Region</th>\n",
       "      <th>Product ID</th>\n",
       "      <th>Category</th>\n",
       "      <th>Sub-Category</th>\n",
       "      <th>Product Name</th>\n",
       "      <th>Sales</th>\n",
       "    </tr>\n",
       "  </thead>\n",
       "  <tbody>\n",
       "    <tr>\n",
       "      <th>0</th>\n",
       "      <td>1</td>\n",
       "      <td>CA-2017-152156</td>\n",
       "      <td>08/11/2017</td>\n",
       "      <td>11/11/2017</td>\n",
       "      <td>Second Class</td>\n",
       "      <td>CG-12520</td>\n",
       "      <td>Claire Gute</td>\n",
       "      <td>Consumer</td>\n",
       "      <td>United States</td>\n",
       "      <td>Henderson</td>\n",
       "      <td>Kentucky</td>\n",
       "      <td>42420.0</td>\n",
       "      <td>South</td>\n",
       "      <td>FUR-BO-10001798</td>\n",
       "      <td>Furniture</td>\n",
       "      <td>Bookcases</td>\n",
       "      <td>Bush Somerset Collection Bookcase</td>\n",
       "      <td>261.9600</td>\n",
       "    </tr>\n",
       "    <tr>\n",
       "      <th>1</th>\n",
       "      <td>2</td>\n",
       "      <td>CA-2017-152156</td>\n",
       "      <td>08/11/2017</td>\n",
       "      <td>11/11/2017</td>\n",
       "      <td>Second Class</td>\n",
       "      <td>CG-12520</td>\n",
       "      <td>Claire Gute</td>\n",
       "      <td>Consumer</td>\n",
       "      <td>United States</td>\n",
       "      <td>Henderson</td>\n",
       "      <td>Kentucky</td>\n",
       "      <td>42420.0</td>\n",
       "      <td>South</td>\n",
       "      <td>FUR-CH-10000454</td>\n",
       "      <td>Furniture</td>\n",
       "      <td>Chairs</td>\n",
       "      <td>Hon Deluxe Fabric Upholstered Stacking Chairs,...</td>\n",
       "      <td>731.9400</td>\n",
       "    </tr>\n",
       "    <tr>\n",
       "      <th>2</th>\n",
       "      <td>3</td>\n",
       "      <td>CA-2017-138688</td>\n",
       "      <td>12/06/2017</td>\n",
       "      <td>16/06/2017</td>\n",
       "      <td>Second Class</td>\n",
       "      <td>DV-13045</td>\n",
       "      <td>Darrin Van Huff</td>\n",
       "      <td>Corporate</td>\n",
       "      <td>United States</td>\n",
       "      <td>Los Angeles</td>\n",
       "      <td>California</td>\n",
       "      <td>90036.0</td>\n",
       "      <td>West</td>\n",
       "      <td>OFF-LA-10000240</td>\n",
       "      <td>Office Supplies</td>\n",
       "      <td>Labels</td>\n",
       "      <td>Self-Adhesive Address Labels for Typewriters b...</td>\n",
       "      <td>14.6200</td>\n",
       "    </tr>\n",
       "    <tr>\n",
       "      <th>3</th>\n",
       "      <td>4</td>\n",
       "      <td>US-2016-108966</td>\n",
       "      <td>11/10/2016</td>\n",
       "      <td>18/10/2016</td>\n",
       "      <td>Standard Class</td>\n",
       "      <td>SO-20335</td>\n",
       "      <td>Sean O'Donnell</td>\n",
       "      <td>Consumer</td>\n",
       "      <td>United States</td>\n",
       "      <td>Fort Lauderdale</td>\n",
       "      <td>Florida</td>\n",
       "      <td>33311.0</td>\n",
       "      <td>South</td>\n",
       "      <td>FUR-TA-10000577</td>\n",
       "      <td>Furniture</td>\n",
       "      <td>Tables</td>\n",
       "      <td>Bretford CR4500 Series Slim Rectangular Table</td>\n",
       "      <td>957.5775</td>\n",
       "    </tr>\n",
       "    <tr>\n",
       "      <th>4</th>\n",
       "      <td>5</td>\n",
       "      <td>US-2016-108966</td>\n",
       "      <td>11/10/2016</td>\n",
       "      <td>18/10/2016</td>\n",
       "      <td>Standard Class</td>\n",
       "      <td>SO-20335</td>\n",
       "      <td>Sean O'Donnell</td>\n",
       "      <td>Consumer</td>\n",
       "      <td>United States</td>\n",
       "      <td>Fort Lauderdale</td>\n",
       "      <td>Florida</td>\n",
       "      <td>33311.0</td>\n",
       "      <td>South</td>\n",
       "      <td>OFF-ST-10000760</td>\n",
       "      <td>Office Supplies</td>\n",
       "      <td>Storage</td>\n",
       "      <td>Eldon Fold 'N Roll Cart System</td>\n",
       "      <td>22.3680</td>\n",
       "    </tr>\n",
       "  </tbody>\n",
       "</table>\n",
       "</div>"
      ],
      "text/plain": [
       "   Row ID        Order ID  Order Date   Ship Date       Ship Mode Customer ID  \\\n",
       "0       1  CA-2017-152156  08/11/2017  11/11/2017    Second Class    CG-12520   \n",
       "1       2  CA-2017-152156  08/11/2017  11/11/2017    Second Class    CG-12520   \n",
       "2       3  CA-2017-138688  12/06/2017  16/06/2017    Second Class    DV-13045   \n",
       "3       4  US-2016-108966  11/10/2016  18/10/2016  Standard Class    SO-20335   \n",
       "4       5  US-2016-108966  11/10/2016  18/10/2016  Standard Class    SO-20335   \n",
       "\n",
       "     Customer Name    Segment        Country             City       State  \\\n",
       "0      Claire Gute   Consumer  United States        Henderson    Kentucky   \n",
       "1      Claire Gute   Consumer  United States        Henderson    Kentucky   \n",
       "2  Darrin Van Huff  Corporate  United States      Los Angeles  California   \n",
       "3   Sean O'Donnell   Consumer  United States  Fort Lauderdale     Florida   \n",
       "4   Sean O'Donnell   Consumer  United States  Fort Lauderdale     Florida   \n",
       "\n",
       "   Postal Code Region       Product ID         Category Sub-Category  \\\n",
       "0      42420.0  South  FUR-BO-10001798        Furniture    Bookcases   \n",
       "1      42420.0  South  FUR-CH-10000454        Furniture       Chairs   \n",
       "2      90036.0   West  OFF-LA-10000240  Office Supplies       Labels   \n",
       "3      33311.0  South  FUR-TA-10000577        Furniture       Tables   \n",
       "4      33311.0  South  OFF-ST-10000760  Office Supplies      Storage   \n",
       "\n",
       "                                        Product Name     Sales  \n",
       "0                  Bush Somerset Collection Bookcase  261.9600  \n",
       "1  Hon Deluxe Fabric Upholstered Stacking Chairs,...  731.9400  \n",
       "2  Self-Adhesive Address Labels for Typewriters b...   14.6200  \n",
       "3      Bretford CR4500 Series Slim Rectangular Table  957.5775  \n",
       "4                     Eldon Fold 'N Roll Cart System   22.3680  "
      ]
     },
     "execution_count": 3,
     "metadata": {},
     "output_type": "execute_result"
    }
   ],
   "source": [
    "df = pd.read_csv(r'/kaggle/input/sales-forecasting/train.csv')\n",
    "df.head()"
   ]
  },
  {
   "cell_type": "markdown",
   "id": "72ea65d8",
   "metadata": {
    "papermill": {
     "duration": 0.020325,
     "end_time": "2023-06-22T11:47:44.460894",
     "exception": false,
     "start_time": "2023-06-22T11:47:44.440569",
     "status": "completed"
    },
    "tags": []
   },
   "source": [
    "# **feature engineering**"
   ]
  },
  {
   "cell_type": "code",
   "execution_count": 4,
   "id": "d7dca7b4",
   "metadata": {
    "execution": {
     "iopub.execute_input": "2023-06-22T11:47:44.504649Z",
     "iopub.status.busy": "2023-06-22T11:47:44.504228Z",
     "iopub.status.idle": "2023-06-22T11:47:44.576159Z",
     "shell.execute_reply": "2023-06-22T11:47:44.574662Z"
    },
    "papermill": {
     "duration": 0.096976,
     "end_time": "2023-06-22T11:47:44.578605",
     "exception": false,
     "start_time": "2023-06-22T11:47:44.481629",
     "status": "completed"
    },
    "tags": []
   },
   "outputs": [
    {
     "name": "stdout",
     "output_type": "stream",
     "text": [
      "<class 'pandas.core.frame.DataFrame'>\n",
      "RangeIndex: 9800 entries, 0 to 9799\n",
      "Data columns (total 18 columns):\n",
      " #   Column         Non-Null Count  Dtype  \n",
      "---  ------         --------------  -----  \n",
      " 0   Row ID         9800 non-null   int64  \n",
      " 1   Order ID       9800 non-null   object \n",
      " 2   Order Date     9800 non-null   object \n",
      " 3   Ship Date      9800 non-null   object \n",
      " 4   Ship Mode      9800 non-null   object \n",
      " 5   Customer ID    9800 non-null   object \n",
      " 6   Customer Name  9800 non-null   object \n",
      " 7   Segment        9800 non-null   object \n",
      " 8   Country        9800 non-null   object \n",
      " 9   City           9800 non-null   object \n",
      " 10  State          9800 non-null   object \n",
      " 11  Postal Code    9789 non-null   float64\n",
      " 12  Region         9800 non-null   object \n",
      " 13  Product ID     9800 non-null   object \n",
      " 14  Category       9800 non-null   object \n",
      " 15  Sub-Category   9800 non-null   object \n",
      " 16  Product Name   9800 non-null   object \n",
      " 17  Sales          9800 non-null   float64\n",
      "dtypes: float64(2), int64(1), object(15)\n",
      "memory usage: 1.3+ MB\n"
     ]
    }
   ],
   "source": [
    "df.info()"
   ]
  },
  {
   "cell_type": "code",
   "execution_count": 5,
   "id": "87e40ea7",
   "metadata": {
    "execution": {
     "iopub.execute_input": "2023-06-22T11:47:44.623360Z",
     "iopub.status.busy": "2023-06-22T11:47:44.622188Z",
     "iopub.status.idle": "2023-06-22T11:47:44.678165Z",
     "shell.execute_reply": "2023-06-22T11:47:44.677292Z"
    },
    "papermill": {
     "duration": 0.080549,
     "end_time": "2023-06-22T11:47:44.680543",
     "exception": false,
     "start_time": "2023-06-22T11:47:44.599994",
     "status": "completed"
    },
    "tags": []
   },
   "outputs": [
    {
     "data": {
      "text/plain": [
       "Row ID           0.000000\n",
       "Order ID         0.000000\n",
       "Order Date       0.000000\n",
       "Ship Date        0.000000\n",
       "Ship Mode        0.000000\n",
       "Customer ID      0.000000\n",
       "Customer Name    0.000000\n",
       "Segment          0.000000\n",
       "Country          0.000000\n",
       "City             0.000000\n",
       "State            0.000000\n",
       "Postal Code      0.112245\n",
       "Region           0.000000\n",
       "Product ID       0.000000\n",
       "Category         0.000000\n",
       "Sub-Category     0.000000\n",
       "Product Name     0.000000\n",
       "Sales            0.000000\n",
       "dtype: float64"
      ]
     },
     "execution_count": 5,
     "metadata": {},
     "output_type": "execute_result"
    }
   ],
   "source": [
    "df.isnull().sum()*100/len(df)"
   ]
  },
  {
   "cell_type": "code",
   "execution_count": 6,
   "id": "a3fc2a80",
   "metadata": {
    "execution": {
     "iopub.execute_input": "2023-06-22T11:47:44.725111Z",
     "iopub.status.busy": "2023-06-22T11:47:44.724182Z",
     "iopub.status.idle": "2023-06-22T11:47:44.731255Z",
     "shell.execute_reply": "2023-06-22T11:47:44.730067Z"
    },
    "papermill": {
     "duration": 0.032035,
     "end_time": "2023-06-22T11:47:44.733772",
     "exception": false,
     "start_time": "2023-06-22T11:47:44.701737",
     "status": "completed"
    },
    "tags": []
   },
   "outputs": [],
   "source": [
    "df['Postal Code'] = df['Postal Code'].fillna(0)"
   ]
  },
  {
   "cell_type": "markdown",
   "id": "4d9e4fce",
   "metadata": {
    "papermill": {
     "duration": 0.020774,
     "end_time": "2023-06-22T11:47:44.777148",
     "exception": false,
     "start_time": "2023-06-22T11:47:44.756374",
     "status": "completed"
    },
    "tags": []
   },
   "source": [
    "# **how many segment for sales is available**"
   ]
  },
  {
   "cell_type": "code",
   "execution_count": 7,
   "id": "b40d56ca",
   "metadata": {
    "execution": {
     "iopub.execute_input": "2023-06-22T11:47:44.821323Z",
     "iopub.status.busy": "2023-06-22T11:47:44.820350Z",
     "iopub.status.idle": "2023-06-22T11:47:44.828489Z",
     "shell.execute_reply": "2023-06-22T11:47:44.827449Z"
    },
    "papermill": {
     "duration": 0.032886,
     "end_time": "2023-06-22T11:47:44.830944",
     "exception": false,
     "start_time": "2023-06-22T11:47:44.798058",
     "status": "completed"
    },
    "tags": []
   },
   "outputs": [],
   "source": [
    "seg_data = pd.DataFrame(df['Segment'].value_counts())"
   ]
  },
  {
   "cell_type": "code",
   "execution_count": 8,
   "id": "bc4c4583",
   "metadata": {
    "execution": {
     "iopub.execute_input": "2023-06-22T11:47:44.874799Z",
     "iopub.status.busy": "2023-06-22T11:47:44.874342Z",
     "iopub.status.idle": "2023-06-22T11:47:45.142617Z",
     "shell.execute_reply": "2023-06-22T11:47:45.141443Z"
    },
    "papermill": {
     "duration": 0.293297,
     "end_time": "2023-06-22T11:47:45.145283",
     "exception": false,
     "start_time": "2023-06-22T11:47:44.851986",
     "status": "completed"
    },
    "tags": []
   },
   "outputs": [
    {
     "data": {
      "text/plain": [
       "<Axes: ylabel='Segment'>"
      ]
     },
     "execution_count": 8,
     "metadata": {},
     "output_type": "execute_result"
    },
    {
     "data": {
      "image/png": "[encoded data removed]",
      "text/plain": [
       "<Figure size 640x480 with 1 Axes>"
      ]
     },
     "metadata": {},
     "output_type": "display_data"
    }
   ],
   "source": [
    "sns.barplot(seg_data , x = seg_data.index , y = 'Segment')"
   ]
  },
  {
   "cell_type": "markdown",
   "id": "9b6b46bb",
   "metadata": {
    "papermill": {
     "duration": 0.021055,
     "end_time": "2023-06-22T11:47:45.188495",
     "exception": false,
     "start_time": "2023-06-22T11:47:45.167440",
     "status": "completed"
    },
    "tags": []
   },
   "source": [
    "# **top 10 state of USA give max sales count**"
   ]
  },
  {
   "cell_type": "code",
   "execution_count": 9,
   "id": "75adbd95",
   "metadata": {
    "execution": {
     "iopub.execute_input": "2023-06-22T11:47:45.233251Z",
     "iopub.status.busy": "2023-06-22T11:47:45.232861Z",
     "iopub.status.idle": "2023-06-22T11:47:45.241039Z",
     "shell.execute_reply": "2023-06-22T11:47:45.239797Z"
    },
    "papermill": {
     "duration": 0.033535,
     "end_time": "2023-06-22T11:47:45.243402",
     "exception": false,
     "start_time": "2023-06-22T11:47:45.209867",
     "status": "completed"
    },
    "tags": []
   },
   "outputs": [],
   "source": [
    "state_sale = pd.DataFrame(df['State'].value_counts())[0:10]"
   ]
  },
  {
   "cell_type": "code",
   "execution_count": 10,
   "id": "400f9793",
   "metadata": {
    "execution": {
     "iopub.execute_input": "2023-06-22T11:47:45.288726Z",
     "iopub.status.busy": "2023-06-22T11:47:45.287817Z",
     "iopub.status.idle": "2023-06-22T11:47:45.632928Z",
     "shell.execute_reply": "2023-06-22T11:47:45.632059Z"
    },
    "papermill": {
     "duration": 0.369969,
     "end_time": "2023-06-22T11:47:45.635137",
     "exception": false,
     "start_time": "2023-06-22T11:47:45.265168",
     "status": "completed"
    },
    "tags": []
   },
   "outputs": [
    {
     "data": {
      "text/plain": [
       "<Axes: xlabel='State'>"
      ]
     },
     "execution_count": 10,
     "metadata": {},
     "output_type": "execute_result"
    },
    {
     "data": {
      "image/png": "[encoded data removed]",
      "text/plain": [
       "<Figure size 640x480 with 1 Axes>"
      ]
     },
     "metadata": {},
     "output_type": "display_data"
    }
   ],
   "source": [
    "sns.barplot(state_sale , y= state_sale.index , x = 'State')"
   ]
  },
  {
   "cell_type": "markdown",
   "id": "9154a0e8",
   "metadata": {
    "papermill": {
     "duration": 0.021679,
     "end_time": "2023-06-22T11:47:45.678914",
     "exception": false,
     "start_time": "2023-06-22T11:47:45.657235",
     "status": "completed"
    },
    "tags": []
   },
   "source": [
    "# **top 10 city of usa that gives maximum sales count**"
   ]
  },
  {
   "cell_type": "code",
   "execution_count": 11,
   "id": "12d130cb",
   "metadata": {
    "execution": {
     "iopub.execute_input": "2023-06-22T11:47:45.724916Z",
     "iopub.status.busy": "2023-06-22T11:47:45.724070Z",
     "iopub.status.idle": "2023-06-22T11:47:45.731292Z",
     "shell.execute_reply": "2023-06-22T11:47:45.730539Z"
    },
    "papermill": {
     "duration": 0.03277,
     "end_time": "2023-06-22T11:47:45.733588",
     "exception": false,
     "start_time": "2023-06-22T11:47:45.700818",
     "status": "completed"
    },
    "tags": []
   },
   "outputs": [],
   "source": [
    "city_sale = pd.DataFrame(df['City'].value_counts())[0:10]"
   ]
  },
  {
   "cell_type": "code",
   "execution_count": 12,
   "id": "9d93d338",
   "metadata": {
    "execution": {
     "iopub.execute_input": "2023-06-22T11:47:45.780385Z",
     "iopub.status.busy": "2023-06-22T11:47:45.779967Z",
     "iopub.status.idle": "2023-06-22T11:47:46.100924Z",
     "shell.execute_reply": "2023-06-22T11:47:46.099829Z"
    },
    "papermill": {
     "duration": 0.346585,
     "end_time": "2023-06-22T11:47:46.103281",
     "exception": false,
     "start_time": "2023-06-22T11:47:45.756696",
     "status": "completed"
    },
    "tags": []
   },
   "outputs": [
    {
     "data": {
      "text/plain": [
       "<Axes: xlabel='City'>"
      ]
     },
     "execution_count": 12,
     "metadata": {},
     "output_type": "execute_result"
    },
    {
     "data": {
      "image/png": "[encoded data removed]",
      "text/plain": [
       "<Figure size 640x480 with 1 Axes>"
      ]
     },
     "metadata": {},
     "output_type": "display_data"
    }
   ],
   "source": [
    "sns.barplot(city_sale , y = city_sale.index , x = 'City')"
   ]
  },
  {
   "cell_type": "markdown",
   "id": "1a48bf16",
   "metadata": {
    "papermill": {
     "duration": 0.022645,
     "end_time": "2023-06-22T11:47:46.149301",
     "exception": false,
     "start_time": "2023-06-22T11:47:46.126656",
     "status": "completed"
    },
    "tags": []
   },
   "source": [
    "# **which region of USA gives maximum sales count**"
   ]
  },
  {
   "cell_type": "code",
   "execution_count": 13,
   "id": "a106fc3b",
   "metadata": {
    "execution": {
     "iopub.execute_input": "2023-06-22T11:47:46.196647Z",
     "iopub.status.busy": "2023-06-22T11:47:46.196205Z",
     "iopub.status.idle": "2023-06-22T11:47:46.203580Z",
     "shell.execute_reply": "2023-06-22T11:47:46.202524Z"
    },
    "papermill": {
     "duration": 0.034057,
     "end_time": "2023-06-22T11:47:46.205853",
     "exception": false,
     "start_time": "2023-06-22T11:47:46.171796",
     "status": "completed"
    },
    "tags": []
   },
   "outputs": [],
   "source": [
    "region_data = pd.DataFrame(df['Region'].value_counts())"
   ]
  },
  {
   "cell_type": "code",
   "execution_count": 14,
   "id": "1ba71bc0",
   "metadata": {
    "execution": {
     "iopub.execute_input": "2023-06-22T11:47:46.252913Z",
     "iopub.status.busy": "2023-06-22T11:47:46.252512Z",
     "iopub.status.idle": "2023-06-22T11:47:46.515483Z",
     "shell.execute_reply": "2023-06-22T11:47:46.514496Z"
    },
    "papermill": {
     "duration": 0.289555,
     "end_time": "2023-06-22T11:47:46.517945",
     "exception": false,
     "start_time": "2023-06-22T11:47:46.228390",
     "status": "completed"
    },
    "tags": []
   },
   "outputs": [
    {
     "data": {
      "text/plain": [
       "<Axes: xlabel='Region'>"
      ]
     },
     "execution_count": 14,
     "metadata": {},
     "output_type": "execute_result"
    },
    {
     "data": {
      "image/png": "[encoded data removed]",
      "text/plain": [
       "<Figure size 640x480 with 1 Axes>"
      ]
     },
     "metadata": {},
     "output_type": "display_data"
    }
   ],
   "source": [
    "sns.barplot(region_data , y = region_data.index , x = 'Region')"
   ]
  },
  {
   "cell_type": "markdown",
   "id": "09dea41b",
   "metadata": {
    "papermill": {
     "duration": 0.023038,
     "end_time": "2023-06-22T11:47:46.563897",
     "exception": false,
     "start_time": "2023-06-22T11:47:46.540859",
     "status": "completed"
    },
    "tags": []
   },
   "source": [
    "# **what kind of product they Are selling and their quantity through USA**"
   ]
  },
  {
   "cell_type": "code",
   "execution_count": 15,
   "id": "b0eaae99",
   "metadata": {
    "execution": {
     "iopub.execute_input": "2023-06-22T11:47:46.611951Z",
     "iopub.status.busy": "2023-06-22T11:47:46.611575Z",
     "iopub.status.idle": "2023-06-22T11:47:46.619187Z",
     "shell.execute_reply": "2023-06-22T11:47:46.617929Z"
    },
    "papermill": {
     "duration": 0.034749,
     "end_time": "2023-06-22T11:47:46.621562",
     "exception": false,
     "start_time": "2023-06-22T11:47:46.586813",
     "status": "completed"
    },
    "tags": []
   },
   "outputs": [],
   "source": [
    "cat_data = pd.DataFrame(df['Category'].value_counts())[0:10]"
   ]
  },
  {
   "cell_type": "code",
   "execution_count": 16,
   "id": "fc744da0",
   "metadata": {
    "execution": {
     "iopub.execute_input": "2023-06-22T11:47:46.669439Z",
     "iopub.status.busy": "2023-06-22T11:47:46.668796Z",
     "iopub.status.idle": "2023-06-22T11:47:46.864651Z",
     "shell.execute_reply": "2023-06-22T11:47:46.863424Z"
    },
    "papermill": {
     "duration": 0.222974,
     "end_time": "2023-06-22T11:47:46.867397",
     "exception": false,
     "start_time": "2023-06-22T11:47:46.644423",
     "status": "completed"
    },
    "tags": []
   },
   "outputs": [
    {
     "data": {
      "text/plain": [
       "<Axes: xlabel='Category'>"
      ]
     },
     "execution_count": 16,
     "metadata": {},
     "output_type": "execute_result"
    },
    {
     "data": {
      "image/png": "[encoded data removed]",
      "text/plain": [
       "<Figure size 640x480 with 1 Axes>"
      ]
     },
     "metadata": {},
     "output_type": "display_data"
    }
   ],
   "source": [
    "sns.barplot(cat_data , y = cat_data.index , x = 'Category')"
   ]
  },
  {
   "cell_type": "markdown",
   "id": "9e73fc36",
   "metadata": {
    "papermill": {
     "duration": 0.023266,
     "end_time": "2023-06-22T11:47:46.914492",
     "exception": false,
     "start_time": "2023-06-22T11:47:46.891226",
     "status": "completed"
    },
    "tags": []
   },
   "source": [
    "# **under office supplies what kind of product they are selling**"
   ]
  },
  {
   "cell_type": "code",
   "execution_count": 17,
   "id": "01777df0",
   "metadata": {
    "execution": {
     "iopub.execute_input": "2023-06-22T11:47:46.964130Z",
     "iopub.status.busy": "2023-06-22T11:47:46.963713Z",
     "iopub.status.idle": "2023-06-22T11:47:46.974709Z",
     "shell.execute_reply": "2023-06-22T11:47:46.973537Z"
    },
    "papermill": {
     "duration": 0.0392,
     "end_time": "2023-06-22T11:47:46.977382",
     "exception": false,
     "start_time": "2023-06-22T11:47:46.938182",
     "status": "completed"
    },
    "tags": []
   },
   "outputs": [],
   "source": [
    "os_data = df[df['Category'] == 'Office Supplies']"
   ]
  },
  {
   "cell_type": "code",
   "execution_count": 18,
   "id": "bccf413c",
   "metadata": {
    "execution": {
     "iopub.execute_input": "2023-06-22T11:47:47.026863Z",
     "iopub.status.busy": "2023-06-22T11:47:47.026102Z",
     "iopub.status.idle": "2023-06-22T11:47:47.033444Z",
     "shell.execute_reply": "2023-06-22T11:47:47.032671Z"
    },
    "papermill": {
     "duration": 0.03449,
     "end_time": "2023-06-22T11:47:47.035677",
     "exception": false,
     "start_time": "2023-06-22T11:47:47.001187",
     "status": "completed"
    },
    "tags": []
   },
   "outputs": [],
   "source": [
    "os_data = pd.DataFrame(os_data['Sub-Category'].value_counts())"
   ]
  },
  {
   "cell_type": "code",
   "execution_count": 19,
   "id": "cba7a8c8",
   "metadata": {
    "execution": {
     "iopub.execute_input": "2023-06-22T11:47:47.085124Z",
     "iopub.status.busy": "2023-06-22T11:47:47.084377Z",
     "iopub.status.idle": "2023-06-22T11:47:47.348525Z",
     "shell.execute_reply": "2023-06-22T11:47:47.347290Z"
    },
    "papermill": {
     "duration": 0.291571,
     "end_time": "2023-06-22T11:47:47.351184",
     "exception": false,
     "start_time": "2023-06-22T11:47:47.059613",
     "status": "completed"
    },
    "tags": []
   },
   "outputs": [
    {
     "data": {
      "text/plain": [
       "<Axes: xlabel='Sub-Category'>"
      ]
     },
     "execution_count": 19,
     "metadata": {},
     "output_type": "execute_result"
    },
    {
     "data": {
      "image/png": "[encoded data removed]",
      "text/plain": [
       "<Figure size 640x480 with 1 Axes>"
      ]
     },
     "metadata": {},
     "output_type": "display_data"
    }
   ],
   "source": [
    "sns.barplot(os_data, y = os_data.index , x = 'Sub-Category')"
   ]
  },
  {
   "cell_type": "markdown",
   "id": "8223a1d3",
   "metadata": {
    "papermill": {
     "duration": 0.023837,
     "end_time": "2023-06-22T11:47:47.400133",
     "exception": false,
     "start_time": "2023-06-22T11:47:47.376296",
     "status": "completed"
    },
    "tags": []
   },
   "source": [
    "# **under Furniture what kind of product they are selling**"
   ]
  },
  {
   "cell_type": "code",
   "execution_count": 20,
   "id": "9a8a7df7",
   "metadata": {
    "execution": {
     "iopub.execute_input": "2023-06-22T11:47:47.450097Z",
     "iopub.status.busy": "2023-06-22T11:47:47.449707Z",
     "iopub.status.idle": "2023-06-22T11:47:47.458487Z",
     "shell.execute_reply": "2023-06-22T11:47:47.457193Z"
    },
    "papermill": {
     "duration": 0.036771,
     "end_time": "2023-06-22T11:47:47.460945",
     "exception": false,
     "start_time": "2023-06-22T11:47:47.424174",
     "status": "completed"
    },
    "tags": []
   },
   "outputs": [],
   "source": [
    "fr_data = df[df['Category'] == 'Furniture']"
   ]
  },
  {
   "cell_type": "code",
   "execution_count": 21,
   "id": "655809e3",
   "metadata": {
    "execution": {
     "iopub.execute_input": "2023-06-22T11:47:47.511533Z",
     "iopub.status.busy": "2023-06-22T11:47:47.510792Z",
     "iopub.status.idle": "2023-06-22T11:47:47.517564Z",
     "shell.execute_reply": "2023-06-22T11:47:47.516790Z"
    },
    "papermill": {
     "duration": 0.034639,
     "end_time": "2023-06-22T11:47:47.519741",
     "exception": false,
     "start_time": "2023-06-22T11:47:47.485102",
     "status": "completed"
    },
    "tags": []
   },
   "outputs": [],
   "source": [
    "fr_data = pd.DataFrame(fr_data['Sub-Category'].value_counts())"
   ]
  },
  {
   "cell_type": "code",
   "execution_count": 22,
   "id": "a8a61134",
   "metadata": {
    "execution": {
     "iopub.execute_input": "2023-06-22T11:47:47.570991Z",
     "iopub.status.busy": "2023-06-22T11:47:47.570271Z",
     "iopub.status.idle": "2023-06-22T11:47:47.761161Z",
     "shell.execute_reply": "2023-06-22T11:47:47.760336Z"
    },
    "papermill": {
     "duration": 0.219235,
     "end_time": "2023-06-22T11:47:47.763389",
     "exception": false,
     "start_time": "2023-06-22T11:47:47.544154",
     "status": "completed"
    },
    "tags": []
   },
   "outputs": [
    {
     "data": {
      "text/plain": [
       "<Axes: xlabel='Sub-Category'>"
      ]
     },
     "execution_count": 22,
     "metadata": {},
     "output_type": "execute_result"
    },
    {
     "data": {
      "image/png": "[encoded data removed]",
      "text/plain": [
       "<Figure size 640x480 with 1 Axes>"
      ]
     },
     "metadata": {},
     "output_type": "display_data"
    }
   ],
   "source": [
    "sns.barplot(fr_data, y = fr_data.index , x = 'Sub-Category')"
   ]
  },
  {
   "cell_type": "markdown",
   "id": "d18a7bc5",
   "metadata": {
    "papermill": {
     "duration": 0.024323,
     "end_time": "2023-06-22T11:47:47.812264",
     "exception": false,
     "start_time": "2023-06-22T11:47:47.787941",
     "status": "completed"
    },
    "tags": []
   },
   "source": [
    "# **under Technology what kind of product they are selling**"
   ]
  },
  {
   "cell_type": "code",
   "execution_count": 23,
   "id": "ad322915",
   "metadata": {
    "execution": {
     "iopub.execute_input": "2023-06-22T11:47:47.865837Z",
     "iopub.status.busy": "2023-06-22T11:47:47.864893Z",
     "iopub.status.idle": "2023-06-22T11:47:47.872254Z",
     "shell.execute_reply": "2023-06-22T11:47:47.871531Z"
    },
    "papermill": {
     "duration": 0.035135,
     "end_time": "2023-06-22T11:47:47.874414",
     "exception": false,
     "start_time": "2023-06-22T11:47:47.839279",
     "status": "completed"
    },
    "tags": []
   },
   "outputs": [],
   "source": [
    "tc_data = df[df['Category'] == 'Technology']"
   ]
  },
  {
   "cell_type": "code",
   "execution_count": 24,
   "id": "681939ce",
   "metadata": {
    "execution": {
     "iopub.execute_input": "2023-06-22T11:47:47.925059Z",
     "iopub.status.busy": "2023-06-22T11:47:47.924639Z",
     "iopub.status.idle": "2023-06-22T11:47:47.932135Z",
     "shell.execute_reply": "2023-06-22T11:47:47.931020Z"
    },
    "papermill": {
     "duration": 0.035431,
     "end_time": "2023-06-22T11:47:47.934353",
     "exception": false,
     "start_time": "2023-06-22T11:47:47.898922",
     "status": "completed"
    },
    "tags": []
   },
   "outputs": [],
   "source": [
    "tc_data = pd.DataFrame(tc_data['Sub-Category'].value_counts())"
   ]
  },
  {
   "cell_type": "code",
   "execution_count": 25,
   "id": "9d29559b",
   "metadata": {
    "execution": {
     "iopub.execute_input": "2023-06-22T11:47:47.985245Z",
     "iopub.status.busy": "2023-06-22T11:47:47.984810Z",
     "iopub.status.idle": "2023-06-22T11:47:48.181522Z",
     "shell.execute_reply": "2023-06-22T11:47:48.180370Z"
    },
    "papermill": {
     "duration": 0.225325,
     "end_time": "2023-06-22T11:47:48.184160",
     "exception": false,
     "start_time": "2023-06-22T11:47:47.958835",
     "status": "completed"
    },
    "tags": []
   },
   "outputs": [
    {
     "data": {
      "text/plain": [
       "<Axes: xlabel='Sub-Category'>"
      ]
     },
     "execution_count": 25,
     "metadata": {},
     "output_type": "execute_result"
    },
    {
     "data": {
      "image/png": "[encoded data removed]",
      "text/plain": [
       "<Figure size 640x480 with 1 Axes>"
      ]
     },
     "metadata": {},
     "output_type": "display_data"
    }
   ],
   "source": [
    "sns.barplot(tc_data, y = tc_data.index , x = 'Sub-Category')"
   ]
  },
  {
   "cell_type": "markdown",
   "id": "d0f54770",
   "metadata": {
    "papermill": {
     "duration": 0.024477,
     "end_time": "2023-06-22T11:47:48.233433",
     "exception": false,
     "start_time": "2023-06-22T11:47:48.208956",
     "status": "completed"
    },
    "tags": []
   },
   "source": [
    "# **what is the companies preffrred mode of shipping**"
   ]
  },
  {
   "cell_type": "code",
   "execution_count": 26,
   "id": "cd3ac0cc",
   "metadata": {
    "execution": {
     "iopub.execute_input": "2023-06-22T11:47:48.284361Z",
     "iopub.status.busy": "2023-06-22T11:47:48.283975Z",
     "iopub.status.idle": "2023-06-22T11:47:48.292097Z",
     "shell.execute_reply": "2023-06-22T11:47:48.291297Z"
    },
    "papermill": {
     "duration": 0.036339,
     "end_time": "2023-06-22T11:47:48.294377",
     "exception": false,
     "start_time": "2023-06-22T11:47:48.258038",
     "status": "completed"
    },
    "tags": []
   },
   "outputs": [],
   "source": [
    "sm_data = pd.DataFrame(df['Ship Mode'].value_counts())"
   ]
  },
  {
   "cell_type": "code",
   "execution_count": 27,
   "id": "53733b3b",
   "metadata": {
    "execution": {
     "iopub.execute_input": "2023-06-22T11:47:48.346253Z",
     "iopub.status.busy": "2023-06-22T11:47:48.345637Z",
     "iopub.status.idle": "2023-06-22T11:47:48.543898Z",
     "shell.execute_reply": "2023-06-22T11:47:48.542762Z"
    },
    "papermill": {
     "duration": 0.227097,
     "end_time": "2023-06-22T11:47:48.546384",
     "exception": false,
     "start_time": "2023-06-22T11:47:48.319287",
     "status": "completed"
    },
    "tags": []
   },
   "outputs": [
    {
     "data": {
      "text/plain": [
       "<Axes: xlabel='Ship Mode'>"
      ]
     },
     "execution_count": 27,
     "metadata": {},
     "output_type": "execute_result"
    },
    {
     "data": {
      "image/png": "[encoded data removed]",
      "text/plain": [
       "<Figure size 640x480 with 1 Axes>"
      ]
     },
     "metadata": {},
     "output_type": "display_data"
    }
   ],
   "source": [
    "sns.barplot(sm_data , y = sm_data.index , x = 'Ship Mode')"
   ]
  },
  {
   "cell_type": "markdown",
   "id": "b57bd58d",
   "metadata": {
    "papermill": {
     "duration": 0.025052,
     "end_time": "2023-06-22T11:47:48.596852",
     "exception": false,
     "start_time": "2023-06-22T11:47:48.571800",
     "status": "completed"
    },
    "tags": []
   },
   "source": [
    "# **what is the average shipping cost per ship mode**"
   ]
  },
  {
   "cell_type": "code",
   "execution_count": 28,
   "id": "67eddbf9",
   "metadata": {
    "execution": {
     "iopub.execute_input": "2023-06-22T11:47:48.651745Z",
     "iopub.status.busy": "2023-06-22T11:47:48.650952Z",
     "iopub.status.idle": "2023-06-22T11:47:48.661055Z",
     "shell.execute_reply": "2023-06-22T11:47:48.659902Z"
    },
    "papermill": {
     "duration": 0.040565,
     "end_time": "2023-06-22T11:47:48.663688",
     "exception": false,
     "start_time": "2023-06-22T11:47:48.623123",
     "status": "completed"
    },
    "tags": []
   },
   "outputs": [],
   "source": [
    "sms_data = pd.DataFrame(df.groupby('Ship Mode')['Sales'].mean())"
   ]
  },
  {
   "cell_type": "code",
   "execution_count": 29,
   "id": "c582fd75",
   "metadata": {
    "execution": {
     "iopub.execute_input": "2023-06-22T11:47:48.716633Z",
     "iopub.status.busy": "2023-06-22T11:47:48.715845Z",
     "iopub.status.idle": "2023-06-22T11:47:48.725986Z",
     "shell.execute_reply": "2023-06-22T11:47:48.724827Z"
    },
    "papermill": {
     "duration": 0.039098,
     "end_time": "2023-06-22T11:47:48.728322",
     "exception": false,
     "start_time": "2023-06-22T11:47:48.689224",
     "status": "completed"
    },
    "tags": []
   },
   "outputs": [
    {
     "data": {
      "text/html": [
       "<div>\n",
       "<style scoped>\n",
       "    .dataframe tbody tr th:only-of-type {\n",
       "        vertical-align: middle;\n",
       "    }\n",
       "\n",
       "    .dataframe tbody tr th {\n",
       "        vertical-align: top;\n",
       "    }\n",
       "\n",
       "    .dataframe thead th {\n",
       "        text-align: right;\n",
       "    }\n",
       "</style>\n",
       "<table border=\"1\" class=\"dataframe\">\n",
       "  <thead>\n",
       "    <tr style=\"text-align: right;\">\n",
       "      <th></th>\n",
       "      <th>Sales</th>\n",
       "    </tr>\n",
       "    <tr>\n",
       "      <th>Ship Mode</th>\n",
       "      <th></th>\n",
       "    </tr>\n",
       "  </thead>\n",
       "  <tbody>\n",
       "    <tr>\n",
       "      <th>First Class</th>\n",
       "      <td>230.228020</td>\n",
       "    </tr>\n",
       "    <tr>\n",
       "      <th>Same Day</th>\n",
       "      <td>232.749143</td>\n",
       "    </tr>\n",
       "    <tr>\n",
       "      <th>Second Class</th>\n",
       "      <td>236.547939</td>\n",
       "    </tr>\n",
       "    <tr>\n",
       "      <th>Standard Class</th>\n",
       "      <td>228.849856</td>\n",
       "    </tr>\n",
       "  </tbody>\n",
       "</table>\n",
       "</div>"
      ],
      "text/plain": [
       "                     Sales\n",
       "Ship Mode                 \n",
       "First Class     230.228020\n",
       "Same Day        232.749143\n",
       "Second Class    236.547939\n",
       "Standard Class  228.849856"
      ]
     },
     "execution_count": 29,
     "metadata": {},
     "output_type": "execute_result"
    }
   ],
   "source": [
    "sms_data"
   ]
  },
  {
   "cell_type": "code",
   "execution_count": 30,
   "id": "f293af27",
   "metadata": {
    "execution": {
     "iopub.execute_input": "2023-06-22T11:47:48.785288Z",
     "iopub.status.busy": "2023-06-22T11:47:48.784258Z",
     "iopub.status.idle": "2023-06-22T11:47:48.789835Z",
     "shell.execute_reply": "2023-06-22T11:47:48.788991Z"
    },
    "papermill": {
     "duration": 0.037875,
     "end_time": "2023-06-22T11:47:48.792006",
     "exception": false,
     "start_time": "2023-06-22T11:47:48.754131",
     "status": "completed"
    },
    "tags": []
   },
   "outputs": [],
   "source": [
    "sms_data = sms_data.sort_values(by = 'Sales')"
   ]
  },
  {
   "cell_type": "code",
   "execution_count": 31,
   "id": "62549e82",
   "metadata": {
    "execution": {
     "iopub.execute_input": "2023-06-22T11:47:48.845791Z",
     "iopub.status.busy": "2023-06-22T11:47:48.845088Z",
     "iopub.status.idle": "2023-06-22T11:47:49.038702Z",
     "shell.execute_reply": "2023-06-22T11:47:49.037280Z"
    },
    "papermill": {
     "duration": 0.223615,
     "end_time": "2023-06-22T11:47:49.041691",
     "exception": false,
     "start_time": "2023-06-22T11:47:48.818076",
     "status": "completed"
    },
    "tags": []
   },
   "outputs": [
    {
     "data": {
      "text/plain": [
       "<Axes: xlabel='Sales', ylabel='Ship Mode'>"
      ]
     },
     "execution_count": 31,
     "metadata": {},
     "output_type": "execute_result"
    },
    {
     "data": {
      "image/png": "[encoded data removed]",
      "text/plain": [
       "<Figure size 640x480 with 1 Axes>"
      ]
     },
     "metadata": {},
     "output_type": "display_data"
    }
   ],
   "source": [
    "sns.barplot(sms_data , y = sms_data.index , x = 'Sales')"
   ]
  },
  {
   "cell_type": "markdown",
   "id": "b705ce8c",
   "metadata": {
    "papermill": {
     "duration": 0.025503,
     "end_time": "2023-06-22T11:47:49.093341",
     "exception": false,
     "start_time": "2023-06-22T11:47:49.067838",
     "status": "completed"
    },
    "tags": []
   },
   "source": [
    "# **converting the object dtype into datetime object**"
   ]
  },
  {
   "cell_type": "code",
   "execution_count": 32,
   "id": "9686b26f",
   "metadata": {
    "execution": {
     "iopub.execute_input": "2023-06-22T11:47:49.147529Z",
     "iopub.status.busy": "2023-06-22T11:47:49.147074Z",
     "iopub.status.idle": "2023-06-22T11:47:49.184661Z",
     "shell.execute_reply": "2023-06-22T11:47:49.183496Z"
    },
    "papermill": {
     "duration": 0.067854,
     "end_time": "2023-06-22T11:47:49.187240",
     "exception": false,
     "start_time": "2023-06-22T11:47:49.119386",
     "status": "completed"
    },
    "tags": []
   },
   "outputs": [
    {
     "name": "stderr",
     "output_type": "stream",
     "text": [
      "/tmp/ipykernel_21/3346622317.py:1: UserWarning: Parsing dates in DD/MM/YYYY format when dayfirst=False (the default) was specified. This may lead to inconsistently parsed dates! Specify a format to ensure consistent parsing.\n",
      "  df['Ship Date'] = pd.to_datetime(df['Ship Date'])\n"
     ]
    }
   ],
   "source": [
    "df['Ship Date'] = pd.to_datetime(df['Ship Date'])"
   ]
  },
  {
   "cell_type": "code",
   "execution_count": 33,
   "id": "e9ca11a5",
   "metadata": {
    "execution": {
     "iopub.execute_input": "2023-06-22T11:47:49.242378Z",
     "iopub.status.busy": "2023-06-22T11:47:49.241738Z",
     "iopub.status.idle": "2023-06-22T11:47:49.249071Z",
     "shell.execute_reply": "2023-06-22T11:47:49.248186Z"
    },
    "papermill": {
     "duration": 0.037105,
     "end_time": "2023-06-22T11:47:49.251240",
     "exception": false,
     "start_time": "2023-06-22T11:47:49.214135",
     "status": "completed"
    },
    "tags": []
   },
   "outputs": [],
   "source": [
    "df['Year'] = pd.DatetimeIndex(df['Ship Date']).year"
   ]
  },
  {
   "cell_type": "code",
   "execution_count": 34,
   "id": "9a0462fe",
   "metadata": {
    "execution": {
     "iopub.execute_input": "2023-06-22T11:47:49.306125Z",
     "iopub.status.busy": "2023-06-22T11:47:49.305513Z",
     "iopub.status.idle": "2023-06-22T11:47:49.326927Z",
     "shell.execute_reply": "2023-06-22T11:47:49.326024Z"
    },
    "papermill": {
     "duration": 0.051544,
     "end_time": "2023-06-22T11:47:49.329136",
     "exception": false,
     "start_time": "2023-06-22T11:47:49.277592",
     "status": "completed"
    },
    "tags": []
   },
   "outputs": [
    {
     "data": {
      "text/html": [
       "<div>\n",
       "<style scoped>\n",
       "    .dataframe tbody tr th:only-of-type {\n",
       "        vertical-align: middle;\n",
       "    }\n",
       "\n",
       "    .dataframe tbody tr th {\n",
       "        vertical-align: top;\n",
       "    }\n",
       "\n",
       "    .dataframe thead th {\n",
       "        text-align: right;\n",
       "    }\n",
       "</style>\n",
       "<table border=\"1\" class=\"dataframe\">\n",
       "  <thead>\n",
       "    <tr style=\"text-align: right;\">\n",
       "      <th></th>\n",
       "      <th>Row ID</th>\n",
       "      <th>Order ID</th>\n",
       "      <th>Order Date</th>\n",
       "      <th>Ship Date</th>\n",
       "      <th>Ship Mode</th>\n",
       "      <th>Customer ID</th>\n",
       "      <th>Customer Name</th>\n",
       "      <th>Segment</th>\n",
       "      <th>Country</th>\n",
       "      <th>City</th>\n",
       "      <th>State</th>\n",
       "      <th>Postal Code</th>\n",
       "      <th>Region</th>\n",
       "      <th>Product ID</th>\n",
       "      <th>Category</th>\n",
       "      <th>Sub-Category</th>\n",
       "      <th>Product Name</th>\n",
       "      <th>Sales</th>\n",
       "      <th>Year</th>\n",
       "    </tr>\n",
       "  </thead>\n",
       "  <tbody>\n",
       "    <tr>\n",
       "      <th>0</th>\n",
       "      <td>1</td>\n",
       "      <td>CA-2017-152156</td>\n",
       "      <td>08/11/2017</td>\n",
       "      <td>2017-11-11</td>\n",
       "      <td>Second Class</td>\n",
       "      <td>CG-12520</td>\n",
       "      <td>Claire Gute</td>\n",
       "      <td>Consumer</td>\n",
       "      <td>United States</td>\n",
       "      <td>Henderson</td>\n",
       "      <td>Kentucky</td>\n",
       "      <td>42420.0</td>\n",
       "      <td>South</td>\n",
       "      <td>FUR-BO-10001798</td>\n",
       "      <td>Furniture</td>\n",
       "      <td>Bookcases</td>\n",
       "      <td>Bush Somerset Collection Bookcase</td>\n",
       "      <td>261.9600</td>\n",
       "      <td>2017</td>\n",
       "    </tr>\n",
       "    <tr>\n",
       "      <th>1</th>\n",
       "      <td>2</td>\n",
       "      <td>CA-2017-152156</td>\n",
       "      <td>08/11/2017</td>\n",
       "      <td>2017-11-11</td>\n",
       "      <td>Second Class</td>\n",
       "      <td>CG-12520</td>\n",
       "      <td>Claire Gute</td>\n",
       "      <td>Consumer</td>\n",
       "      <td>United States</td>\n",
       "      <td>Henderson</td>\n",
       "      <td>Kentucky</td>\n",
       "      <td>42420.0</td>\n",
       "      <td>South</td>\n",
       "      <td>FUR-CH-10000454</td>\n",
       "      <td>Furniture</td>\n",
       "      <td>Chairs</td>\n",
       "      <td>Hon Deluxe Fabric Upholstered Stacking Chairs,...</td>\n",
       "      <td>731.9400</td>\n",
       "      <td>2017</td>\n",
       "    </tr>\n",
       "    <tr>\n",
       "      <th>2</th>\n",
       "      <td>3</td>\n",
       "      <td>CA-2017-138688</td>\n",
       "      <td>12/06/2017</td>\n",
       "      <td>2017-06-16</td>\n",
       "      <td>Second Class</td>\n",
       "      <td>DV-13045</td>\n",
       "      <td>Darrin Van Huff</td>\n",
       "      <td>Corporate</td>\n",
       "      <td>United States</td>\n",
       "      <td>Los Angeles</td>\n",
       "      <td>California</td>\n",
       "      <td>90036.0</td>\n",
       "      <td>West</td>\n",
       "      <td>OFF-LA-10000240</td>\n",
       "      <td>Office Supplies</td>\n",
       "      <td>Labels</td>\n",
       "      <td>Self-Adhesive Address Labels for Typewriters b...</td>\n",
       "      <td>14.6200</td>\n",
       "      <td>2017</td>\n",
       "    </tr>\n",
       "    <tr>\n",
       "      <th>3</th>\n",
       "      <td>4</td>\n",
       "      <td>US-2016-108966</td>\n",
       "      <td>11/10/2016</td>\n",
       "      <td>2016-10-18</td>\n",
       "      <td>Standard Class</td>\n",
       "      <td>SO-20335</td>\n",
       "      <td>Sean O'Donnell</td>\n",
       "      <td>Consumer</td>\n",
       "      <td>United States</td>\n",
       "      <td>Fort Lauderdale</td>\n",
       "      <td>Florida</td>\n",
       "      <td>33311.0</td>\n",
       "      <td>South</td>\n",
       "      <td>FUR-TA-10000577</td>\n",
       "      <td>Furniture</td>\n",
       "      <td>Tables</td>\n",
       "      <td>Bretford CR4500 Series Slim Rectangular Table</td>\n",
       "      <td>957.5775</td>\n",
       "      <td>2016</td>\n",
       "    </tr>\n",
       "    <tr>\n",
       "      <th>4</th>\n",
       "      <td>5</td>\n",
       "      <td>US-2016-108966</td>\n",
       "      <td>11/10/2016</td>\n",
       "      <td>2016-10-18</td>\n",
       "      <td>Standard Class</td>\n",
       "      <td>SO-20335</td>\n",
       "      <td>Sean O'Donnell</td>\n",
       "      <td>Consumer</td>\n",
       "      <td>United States</td>\n",
       "      <td>Fort Lauderdale</td>\n",
       "      <td>Florida</td>\n",
       "      <td>33311.0</td>\n",
       "      <td>South</td>\n",
       "      <td>OFF-ST-10000760</td>\n",
       "      <td>Office Supplies</td>\n",
       "      <td>Storage</td>\n",
       "      <td>Eldon Fold 'N Roll Cart System</td>\n",
       "      <td>22.3680</td>\n",
       "      <td>2016</td>\n",
       "    </tr>\n",
       "  </tbody>\n",
       "</table>\n",
       "</div>"
      ],
      "text/plain": [
       "   Row ID        Order ID  Order Date  Ship Date       Ship Mode Customer ID  \\\n",
       "0       1  CA-2017-152156  08/11/2017 2017-11-11    Second Class    CG-12520   \n",
       "1       2  CA-2017-152156  08/11/2017 2017-11-11    Second Class    CG-12520   \n",
       "2       3  CA-2017-138688  12/06/2017 2017-06-16    Second Class    DV-13045   \n",
       "3       4  US-2016-108966  11/10/2016 2016-10-18  Standard Class    SO-20335   \n",
       "4       5  US-2016-108966  11/10/2016 2016-10-18  Standard Class    SO-20335   \n",
       "\n",
       "     Customer Name    Segment        Country             City       State  \\\n",
       "0      Claire Gute   Consumer  United States        Henderson    Kentucky   \n",
       "1      Claire Gute   Consumer  United States        Henderson    Kentucky   \n",
       "2  Darrin Van Huff  Corporate  United States      Los Angeles  California   \n",
       "3   Sean O'Donnell   Consumer  United States  Fort Lauderdale     Florida   \n",
       "4   Sean O'Donnell   Consumer  United States  Fort Lauderdale     Florida   \n",
       "\n",
       "   Postal Code Region       Product ID         Category Sub-Category  \\\n",
       "0      42420.0  South  FUR-BO-10001798        Furniture    Bookcases   \n",
       "1      42420.0  South  FUR-CH-10000454        Furniture       Chairs   \n",
       "2      90036.0   West  OFF-LA-10000240  Office Supplies       Labels   \n",
       "3      33311.0  South  FUR-TA-10000577        Furniture       Tables   \n",
       "4      33311.0  South  OFF-ST-10000760  Office Supplies      Storage   \n",
       "\n",
       "                                        Product Name     Sales  Year  \n",
       "0                  Bush Somerset Collection Bookcase  261.9600  2017  \n",
       "1  Hon Deluxe Fabric Upholstered Stacking Chairs,...  731.9400  2017  \n",
       "2  Self-Adhesive Address Labels for Typewriters b...   14.6200  2017  \n",
       "3      Bretford CR4500 Series Slim Rectangular Table  957.5775  2016  \n",
       "4                     Eldon Fold 'N Roll Cart System   22.3680  2016  "
      ]
     },
     "execution_count": 34,
     "metadata": {},
     "output_type": "execute_result"
    }
   ],
   "source": [
    "df.head()"
   ]
  },
  {
   "cell_type": "code",
   "execution_count": 35,
   "id": "e633a498",
   "metadata": {
    "execution": {
     "iopub.execute_input": "2023-06-22T11:47:49.386191Z",
     "iopub.status.busy": "2023-06-22T11:47:49.385562Z",
     "iopub.status.idle": "2023-06-22T11:47:49.422436Z",
     "shell.execute_reply": "2023-06-22T11:47:49.421339Z"
    },
    "papermill": {
     "duration": 0.068438,
     "end_time": "2023-06-22T11:47:49.425026",
     "exception": false,
     "start_time": "2023-06-22T11:47:49.356588",
     "status": "completed"
    },
    "tags": []
   },
   "outputs": [
    {
     "name": "stderr",
     "output_type": "stream",
     "text": [
      "/tmp/ipykernel_21/3072535395.py:1: UserWarning: Parsing dates in DD/MM/YYYY format when dayfirst=False (the default) was specified. This may lead to inconsistently parsed dates! Specify a format to ensure consistent parsing.\n",
      "  df['Order Date'] = pd.to_datetime(df['Order Date'])\n"
     ]
    }
   ],
   "source": [
    "df['Order Date'] = pd.to_datetime(df['Order Date'])"
   ]
  },
  {
   "cell_type": "code",
   "execution_count": 36,
   "id": "e063904a",
   "metadata": {
    "execution": {
     "iopub.execute_input": "2023-06-22T11:47:49.479690Z",
     "iopub.status.busy": "2023-06-22T11:47:49.479079Z",
     "iopub.status.idle": "2023-06-22T11:47:49.486174Z",
     "shell.execute_reply": "2023-06-22T11:47:49.484991Z"
    },
    "papermill": {
     "duration": 0.037239,
     "end_time": "2023-06-22T11:47:49.488640",
     "exception": false,
     "start_time": "2023-06-22T11:47:49.451401",
     "status": "completed"
    },
    "tags": []
   },
   "outputs": [],
   "source": [
    "df['Order_Year'] = pd.DatetimeIndex(df['Order Date']).year"
   ]
  },
  {
   "cell_type": "code",
   "execution_count": 37,
   "id": "202f26e3",
   "metadata": {
    "execution": {
     "iopub.execute_input": "2023-06-22T11:47:49.544728Z",
     "iopub.status.busy": "2023-06-22T11:47:49.544098Z",
     "iopub.status.idle": "2023-06-22T11:47:49.568814Z",
     "shell.execute_reply": "2023-06-22T11:47:49.567958Z"
    },
    "papermill": {
     "duration": 0.05534,
     "end_time": "2023-06-22T11:47:49.570993",
     "exception": false,
     "start_time": "2023-06-22T11:47:49.515653",
     "status": "completed"
    },
    "tags": []
   },
   "outputs": [
    {
     "data": {
      "text/html": [
       "<div>\n",
       "<style scoped>\n",
       "    .dataframe tbody tr th:only-of-type {\n",
       "        vertical-align: middle;\n",
       "    }\n",
       "\n",
       "    .dataframe tbody tr th {\n",
       "        vertical-align: top;\n",
       "    }\n",
       "\n",
       "    .dataframe thead th {\n",
       "        text-align: right;\n",
       "    }\n",
       "</style>\n",
       "<table border=\"1\" class=\"dataframe\">\n",
       "  <thead>\n",
       "    <tr style=\"text-align: right;\">\n",
       "      <th></th>\n",
       "      <th>Row ID</th>\n",
       "      <th>Order ID</th>\n",
       "      <th>Order Date</th>\n",
       "      <th>Ship Date</th>\n",
       "      <th>Ship Mode</th>\n",
       "      <th>Customer ID</th>\n",
       "      <th>Customer Name</th>\n",
       "      <th>Segment</th>\n",
       "      <th>Country</th>\n",
       "      <th>City</th>\n",
       "      <th>State</th>\n",
       "      <th>Postal Code</th>\n",
       "      <th>Region</th>\n",
       "      <th>Product ID</th>\n",
       "      <th>Category</th>\n",
       "      <th>Sub-Category</th>\n",
       "      <th>Product Name</th>\n",
       "      <th>Sales</th>\n",
       "      <th>Year</th>\n",
       "      <th>Order_Year</th>\n",
       "    </tr>\n",
       "  </thead>\n",
       "  <tbody>\n",
       "    <tr>\n",
       "      <th>0</th>\n",
       "      <td>1</td>\n",
       "      <td>CA-2017-152156</td>\n",
       "      <td>2017-08-11</td>\n",
       "      <td>2017-11-11</td>\n",
       "      <td>Second Class</td>\n",
       "      <td>CG-12520</td>\n",
       "      <td>Claire Gute</td>\n",
       "      <td>Consumer</td>\n",
       "      <td>United States</td>\n",
       "      <td>Henderson</td>\n",
       "      <td>Kentucky</td>\n",
       "      <td>42420.0</td>\n",
       "      <td>South</td>\n",
       "      <td>FUR-BO-10001798</td>\n",
       "      <td>Furniture</td>\n",
       "      <td>Bookcases</td>\n",
       "      <td>Bush Somerset Collection Bookcase</td>\n",
       "      <td>261.9600</td>\n",
       "      <td>2017</td>\n",
       "      <td>2017</td>\n",
       "    </tr>\n",
       "    <tr>\n",
       "      <th>1</th>\n",
       "      <td>2</td>\n",
       "      <td>CA-2017-152156</td>\n",
       "      <td>2017-08-11</td>\n",
       "      <td>2017-11-11</td>\n",
       "      <td>Second Class</td>\n",
       "      <td>CG-12520</td>\n",
       "      <td>Claire Gute</td>\n",
       "      <td>Consumer</td>\n",
       "      <td>United States</td>\n",
       "      <td>Henderson</td>\n",
       "      <td>Kentucky</td>\n",
       "      <td>42420.0</td>\n",
       "      <td>South</td>\n",
       "      <td>FUR-CH-10000454</td>\n",
       "      <td>Furniture</td>\n",
       "      <td>Chairs</td>\n",
       "      <td>Hon Deluxe Fabric Upholstered Stacking Chairs,...</td>\n",
       "      <td>731.9400</td>\n",
       "      <td>2017</td>\n",
       "      <td>2017</td>\n",
       "    </tr>\n",
       "    <tr>\n",
       "      <th>2</th>\n",
       "      <td>3</td>\n",
       "      <td>CA-2017-138688</td>\n",
       "      <td>2017-12-06</td>\n",
       "      <td>2017-06-16</td>\n",
       "      <td>Second Class</td>\n",
       "      <td>DV-13045</td>\n",
       "      <td>Darrin Van Huff</td>\n",
       "      <td>Corporate</td>\n",
       "      <td>United States</td>\n",
       "      <td>Los Angeles</td>\n",
       "      <td>California</td>\n",
       "      <td>90036.0</td>\n",
       "      <td>West</td>\n",
       "      <td>OFF-LA-10000240</td>\n",
       "      <td>Office Supplies</td>\n",
       "      <td>Labels</td>\n",
       "      <td>Self-Adhesive Address Labels for Typewriters b...</td>\n",
       "      <td>14.6200</td>\n",
       "      <td>2017</td>\n",
       "      <td>2017</td>\n",
       "    </tr>\n",
       "    <tr>\n",
       "      <th>3</th>\n",
       "      <td>4</td>\n",
       "      <td>US-2016-108966</td>\n",
       "      <td>2016-11-10</td>\n",
       "      <td>2016-10-18</td>\n",
       "      <td>Standard Class</td>\n",
       "      <td>SO-20335</td>\n",
       "      <td>Sean O'Donnell</td>\n",
       "      <td>Consumer</td>\n",
       "      <td>United States</td>\n",
       "      <td>Fort Lauderdale</td>\n",
       "      <td>Florida</td>\n",
       "      <td>33311.0</td>\n",
       "      <td>South</td>\n",
       "      <td>FUR-TA-10000577</td>\n",
       "      <td>Furniture</td>\n",
       "      <td>Tables</td>\n",
       "      <td>Bretford CR4500 Series Slim Rectangular Table</td>\n",
       "      <td>957.5775</td>\n",
       "      <td>2016</td>\n",
       "      <td>2016</td>\n",
       "    </tr>\n",
       "    <tr>\n",
       "      <th>4</th>\n",
       "      <td>5</td>\n",
       "      <td>US-2016-108966</td>\n",
       "      <td>2016-11-10</td>\n",
       "      <td>2016-10-18</td>\n",
       "      <td>Standard Class</td>\n",
       "      <td>SO-20335</td>\n",
       "      <td>Sean O'Donnell</td>\n",
       "      <td>Consumer</td>\n",
       "      <td>United States</td>\n",
       "      <td>Fort Lauderdale</td>\n",
       "      <td>Florida</td>\n",
       "      <td>33311.0</td>\n",
       "      <td>South</td>\n",
       "      <td>OFF-ST-10000760</td>\n",
       "      <td>Office Supplies</td>\n",
       "      <td>Storage</td>\n",
       "      <td>Eldon Fold 'N Roll Cart System</td>\n",
       "      <td>22.3680</td>\n",
       "      <td>2016</td>\n",
       "      <td>2016</td>\n",
       "    </tr>\n",
       "  </tbody>\n",
       "</table>\n",
       "</div>"
      ],
      "text/plain": [
       "   Row ID        Order ID Order Date  Ship Date       Ship Mode Customer ID  \\\n",
       "0       1  CA-2017-152156 2017-08-11 2017-11-11    Second Class    CG-12520   \n",
       "1       2  CA-2017-152156 2017-08-11 2017-11-11    Second Class    CG-12520   \n",
       "2       3  CA-2017-138688 2017-12-06 2017-06-16    Second Class    DV-13045   \n",
       "3       4  US-2016-108966 2016-11-10 2016-10-18  Standard Class    SO-20335   \n",
       "4       5  US-2016-108966 2016-11-10 2016-10-18  Standard Class    SO-20335   \n",
       "\n",
       "     Customer Name    Segment        Country             City       State  \\\n",
       "0      Claire Gute   Consumer  United States        Henderson    Kentucky   \n",
       "1      Claire Gute   Consumer  United States        Henderson    Kentucky   \n",
       "2  Darrin Van Huff  Corporate  United States      Los Angeles  California   \n",
       "3   Sean O'Donnell   Consumer  United States  Fort Lauderdale     Florida   \n",
       "4   Sean O'Donnell   Consumer  United States  Fort Lauderdale     Florida   \n",
       "\n",
       "   Postal Code Region       Product ID         Category Sub-Category  \\\n",
       "0      42420.0  South  FUR-BO-10001798        Furniture    Bookcases   \n",
       "1      42420.0  South  FUR-CH-10000454        Furniture       Chairs   \n",
       "2      90036.0   West  OFF-LA-10000240  Office Supplies       Labels   \n",
       "3      33311.0  South  FUR-TA-10000577        Furniture       Tables   \n",
       "4      33311.0  South  OFF-ST-10000760  Office Supplies      Storage   \n",
       "\n",
       "                                        Product Name     Sales  Year  \\\n",
       "0                  Bush Somerset Collection Bookcase  261.9600  2017   \n",
       "1  Hon Deluxe Fabric Upholstered Stacking Chairs,...  731.9400  2017   \n",
       "2  Self-Adhesive Address Labels for Typewriters b...   14.6200  2017   \n",
       "3      Bretford CR4500 Series Slim Rectangular Table  957.5775  2016   \n",
       "4                     Eldon Fold 'N Roll Cart System   22.3680  2016   \n",
       "\n",
       "   Order_Year  \n",
       "0        2017  \n",
       "1        2017  \n",
       "2        2017  \n",
       "3        2016  \n",
       "4        2016  "
      ]
     },
     "execution_count": 37,
     "metadata": {},
     "output_type": "execute_result"
    }
   ],
   "source": [
    "df.head()"
   ]
  },
  {
   "cell_type": "markdown",
   "id": "f2e1293e",
   "metadata": {
    "papermill": {
     "duration": 0.027369,
     "end_time": "2023-06-22T11:47:49.626188",
     "exception": false,
     "start_time": "2023-06-22T11:47:49.598819",
     "status": "completed"
    },
    "tags": []
   },
   "source": [
    "# **avg sales for consecutive year**"
   ]
  },
  {
   "cell_type": "code",
   "execution_count": 38,
   "id": "6d0c31c1",
   "metadata": {
    "execution": {
     "iopub.execute_input": "2023-06-22T11:47:49.683571Z",
     "iopub.status.busy": "2023-06-22T11:47:49.682863Z",
     "iopub.status.idle": "2023-06-22T11:47:49.690742Z",
     "shell.execute_reply": "2023-06-22T11:47:49.689628Z"
    },
    "papermill": {
     "duration": 0.039272,
     "end_time": "2023-06-22T11:47:49.693255",
     "exception": false,
     "start_time": "2023-06-22T11:47:49.653983",
     "status": "completed"
    },
    "tags": []
   },
   "outputs": [],
   "source": [
    "year_sale = pd.DataFrame(df.groupby('Year')['Sales'].mean())"
   ]
  },
  {
   "cell_type": "code",
   "execution_count": 39,
   "id": "e5c8a5ef",
   "metadata": {
    "execution": {
     "iopub.execute_input": "2023-06-22T11:47:49.749747Z",
     "iopub.status.busy": "2023-06-22T11:47:49.749168Z",
     "iopub.status.idle": "2023-06-22T11:47:49.963197Z",
     "shell.execute_reply": "2023-06-22T11:47:49.961961Z"
    },
    "papermill": {
     "duration": 0.24636,
     "end_time": "2023-06-22T11:47:49.966917",
     "exception": false,
     "start_time": "2023-06-22T11:47:49.720557",
     "status": "completed"
    },
    "tags": []
   },
   "outputs": [
    {
     "data": {
      "text/plain": [
       "<Axes: xlabel='Year', ylabel='Sales'>"
      ]
     },
     "execution_count": 39,
     "metadata": {},
     "output_type": "execute_result"
    },
    {
     "data": {
      "image/png": "[encoded data removed]",
      "text/plain": [
       "<Figure size 640x480 with 1 Axes>"
      ]
     },
     "metadata": {},
     "output_type": "display_data"
    }
   ],
   "source": [
    "sns.barplot(year_sale , x = year_sale.index , y = 'Sales')"
   ]
  },
  {
   "cell_type": "markdown",
   "id": "b9049ee5",
   "metadata": {
    "papermill": {
     "duration": 0.027095,
     "end_time": "2023-06-22T11:47:50.022434",
     "exception": false,
     "start_time": "2023-06-22T11:47:49.995339",
     "status": "completed"
    },
    "tags": []
   },
   "source": [
    "# **no. of shipping in a consecutive year**"
   ]
  },
  {
   "cell_type": "code",
   "execution_count": 40,
   "id": "0374897e",
   "metadata": {
    "execution": {
     "iopub.execute_input": "2023-06-22T11:47:50.080724Z",
     "iopub.status.busy": "2023-06-22T11:47:50.079943Z",
     "iopub.status.idle": "2023-06-22T11:47:50.086271Z",
     "shell.execute_reply": "2023-06-22T11:47:50.085464Z"
    },
    "papermill": {
     "duration": 0.038322,
     "end_time": "2023-06-22T11:47:50.088638",
     "exception": false,
     "start_time": "2023-06-22T11:47:50.050316",
     "status": "completed"
    },
    "tags": []
   },
   "outputs": [],
   "source": [
    "ship_year = pd.DataFrame(df['Year'].value_counts())"
   ]
  },
  {
   "cell_type": "code",
   "execution_count": 41,
   "id": "8aa2c3a2",
   "metadata": {
    "execution": {
     "iopub.execute_input": "2023-06-22T11:47:50.146171Z",
     "iopub.status.busy": "2023-06-22T11:47:50.145363Z",
     "iopub.status.idle": "2023-06-22T11:47:50.150997Z",
     "shell.execute_reply": "2023-06-22T11:47:50.150211Z"
    },
    "papermill": {
     "duration": 0.037459,
     "end_time": "2023-06-22T11:47:50.153779",
     "exception": false,
     "start_time": "2023-06-22T11:47:50.116320",
     "status": "completed"
    },
    "tags": []
   },
   "outputs": [],
   "source": [
    "ship_year = ship_year.reset_index()"
   ]
  },
  {
   "cell_type": "markdown",
   "id": "cce223af",
   "metadata": {
    "papermill": {
     "duration": 0.027329,
     "end_time": "2023-06-22T11:47:50.209171",
     "exception": false,
     "start_time": "2023-06-22T11:47:50.181842",
     "status": "completed"
    },
    "tags": []
   },
   "source": [
    "# **no. of order in a consecutive year**"
   ]
  },
  {
   "cell_type": "code",
   "execution_count": 42,
   "id": "5ca138d1",
   "metadata": {
    "execution": {
     "iopub.execute_input": "2023-06-22T11:47:50.265795Z",
     "iopub.status.busy": "2023-06-22T11:47:50.265329Z",
     "iopub.status.idle": "2023-06-22T11:47:50.271903Z",
     "shell.execute_reply": "2023-06-22T11:47:50.270951Z"
    },
    "papermill": {
     "duration": 0.037493,
     "end_time": "2023-06-22T11:47:50.274171",
     "exception": false,
     "start_time": "2023-06-22T11:47:50.236678",
     "status": "completed"
    },
    "tags": []
   },
   "outputs": [],
   "source": [
    "order_year = pd.DataFrame(df['Order_Year'].value_counts())"
   ]
  },
  {
   "cell_type": "code",
   "execution_count": 43,
   "id": "e1e342b3",
   "metadata": {
    "execution": {
     "iopub.execute_input": "2023-06-22T11:47:50.331502Z",
     "iopub.status.busy": "2023-06-22T11:47:50.330709Z",
     "iopub.status.idle": "2023-06-22T11:47:50.336292Z",
     "shell.execute_reply": "2023-06-22T11:47:50.335544Z"
    },
    "papermill": {
     "duration": 0.037027,
     "end_time": "2023-06-22T11:47:50.338765",
     "exception": false,
     "start_time": "2023-06-22T11:47:50.301738",
     "status": "completed"
    },
    "tags": []
   },
   "outputs": [],
   "source": [
    "order_year = order_year.reset_index()"
   ]
  },
  {
   "cell_type": "markdown",
   "id": "e4ec1b14",
   "metadata": {
    "papermill": {
     "duration": 0.027775,
     "end_time": "2023-06-22T11:47:50.393820",
     "exception": false,
     "start_time": "2023-06-22T11:47:50.366045",
     "status": "completed"
    },
    "tags": []
   },
   "source": [
    "# **how much order they failed to ship**"
   ]
  },
  {
   "cell_type": "code",
   "execution_count": 44,
   "id": "2ff70a67",
   "metadata": {
    "execution": {
     "iopub.execute_input": "2023-06-22T11:47:50.451238Z",
     "iopub.status.busy": "2023-06-22T11:47:50.450406Z",
     "iopub.status.idle": "2023-06-22T11:47:50.464167Z",
     "shell.execute_reply": "2023-06-22T11:47:50.463084Z"
    },
    "papermill": {
     "duration": 0.045721,
     "end_time": "2023-06-22T11:47:50.466975",
     "exception": false,
     "start_time": "2023-06-22T11:47:50.421254",
     "status": "completed"
    },
    "tags": []
   },
   "outputs": [],
   "source": [
    "order_ship = pd.merge(order_year , ship_year)"
   ]
  },
  {
   "cell_type": "code",
   "execution_count": 45,
   "id": "76ba469b",
   "metadata": {
    "execution": {
     "iopub.execute_input": "2023-06-22T11:47:50.524072Z",
     "iopub.status.busy": "2023-06-22T11:47:50.523346Z",
     "iopub.status.idle": "2023-06-22T11:47:50.533919Z",
     "shell.execute_reply": "2023-06-22T11:47:50.532839Z"
    },
    "papermill": {
     "duration": 0.041592,
     "end_time": "2023-06-22T11:47:50.536087",
     "exception": false,
     "start_time": "2023-06-22T11:47:50.494495",
     "status": "completed"
    },
    "tags": []
   },
   "outputs": [
    {
     "data": {
      "text/html": [
       "<div>\n",
       "<style scoped>\n",
       "    .dataframe tbody tr th:only-of-type {\n",
       "        vertical-align: middle;\n",
       "    }\n",
       "\n",
       "    .dataframe tbody tr th {\n",
       "        vertical-align: top;\n",
       "    }\n",
       "\n",
       "    .dataframe thead th {\n",
       "        text-align: right;\n",
       "    }\n",
       "</style>\n",
       "<table border=\"1\" class=\"dataframe\">\n",
       "  <thead>\n",
       "    <tr style=\"text-align: right;\">\n",
       "      <th></th>\n",
       "      <th>Order_Year</th>\n",
       "      <th>Year</th>\n",
       "    </tr>\n",
       "    <tr>\n",
       "      <th>index</th>\n",
       "      <th></th>\n",
       "      <th></th>\n",
       "    </tr>\n",
       "  </thead>\n",
       "  <tbody>\n",
       "    <tr>\n",
       "      <th>2018</th>\n",
       "      <td>3258</td>\n",
       "      <td>3249</td>\n",
       "    </tr>\n",
       "    <tr>\n",
       "      <th>2017</th>\n",
       "      <td>2534</td>\n",
       "      <td>2524</td>\n",
       "    </tr>\n",
       "    <tr>\n",
       "      <th>2016</th>\n",
       "      <td>2055</td>\n",
       "      <td>2083</td>\n",
       "    </tr>\n",
       "    <tr>\n",
       "      <th>2015</th>\n",
       "      <td>1953</td>\n",
       "      <td>1902</td>\n",
       "    </tr>\n",
       "  </tbody>\n",
       "</table>\n",
       "</div>"
      ],
      "text/plain": [
       "       Order_Year  Year\n",
       "index                  \n",
       "2018         3258  3249\n",
       "2017         2534  2524\n",
       "2016         2055  2083\n",
       "2015         1953  1902"
      ]
     },
     "execution_count": 45,
     "metadata": {},
     "output_type": "execute_result"
    }
   ],
   "source": [
    "order_ship.set_index(keys = 'index')"
   ]
  },
  {
   "cell_type": "code",
   "execution_count": 46,
   "id": "ff3d7897",
   "metadata": {
    "execution": {
     "iopub.execute_input": "2023-06-22T11:47:50.593651Z",
     "iopub.status.busy": "2023-06-22T11:47:50.592997Z",
     "iopub.status.idle": "2023-06-22T11:47:50.598776Z",
     "shell.execute_reply": "2023-06-22T11:47:50.597987Z"
    },
    "papermill": {
     "duration": 0.037048,
     "end_time": "2023-06-22T11:47:50.601045",
     "exception": false,
     "start_time": "2023-06-22T11:47:50.563997",
     "status": "completed"
    },
    "tags": []
   },
   "outputs": [],
   "source": [
    "order_ship['Failed_to_ship'] = order_ship['Order_Year']-order_ship['Year']"
   ]
  },
  {
   "cell_type": "code",
   "execution_count": 47,
   "id": "d33c00b6",
   "metadata": {
    "execution": {
     "iopub.execute_input": "2023-06-22T11:47:50.658543Z",
     "iopub.status.busy": "2023-06-22T11:47:50.657888Z",
     "iopub.status.idle": "2023-06-22T11:47:50.670920Z",
     "shell.execute_reply": "2023-06-22T11:47:50.669355Z"
    },
    "papermill": {
     "duration": 0.04519,
     "end_time": "2023-06-22T11:47:50.673792",
     "exception": false,
     "start_time": "2023-06-22T11:47:50.628602",
     "status": "completed"
    },
    "tags": []
   },
   "outputs": [
    {
     "data": {
      "text/html": [
       "<div>\n",
       "<style scoped>\n",
       "    .dataframe tbody tr th:only-of-type {\n",
       "        vertical-align: middle;\n",
       "    }\n",
       "\n",
       "    .dataframe tbody tr th {\n",
       "        vertical-align: top;\n",
       "    }\n",
       "\n",
       "    .dataframe thead th {\n",
       "        text-align: right;\n",
       "    }\n",
       "</style>\n",
       "<table border=\"1\" class=\"dataframe\">\n",
       "  <thead>\n",
       "    <tr style=\"text-align: right;\">\n",
       "      <th></th>\n",
       "      <th>index</th>\n",
       "      <th>Order_Year</th>\n",
       "      <th>Year</th>\n",
       "      <th>Failed_to_ship</th>\n",
       "    </tr>\n",
       "  </thead>\n",
       "  <tbody>\n",
       "    <tr>\n",
       "      <th>0</th>\n",
       "      <td>2018</td>\n",
       "      <td>3258</td>\n",
       "      <td>3249</td>\n",
       "      <td>9</td>\n",
       "    </tr>\n",
       "    <tr>\n",
       "      <th>1</th>\n",
       "      <td>2017</td>\n",
       "      <td>2534</td>\n",
       "      <td>2524</td>\n",
       "      <td>10</td>\n",
       "    </tr>\n",
       "    <tr>\n",
       "      <th>2</th>\n",
       "      <td>2016</td>\n",
       "      <td>2055</td>\n",
       "      <td>2083</td>\n",
       "      <td>-28</td>\n",
       "    </tr>\n",
       "    <tr>\n",
       "      <th>3</th>\n",
       "      <td>2015</td>\n",
       "      <td>1953</td>\n",
       "      <td>1902</td>\n",
       "      <td>51</td>\n",
       "    </tr>\n",
       "  </tbody>\n",
       "</table>\n",
       "</div>"
      ],
      "text/plain": [
       "   index  Order_Year  Year  Failed_to_ship\n",
       "0   2018        3258  3249               9\n",
       "1   2017        2534  2524              10\n",
       "2   2016        2055  2083             -28\n",
       "3   2015        1953  1902              51"
      ]
     },
     "execution_count": 47,
     "metadata": {},
     "output_type": "execute_result"
    }
   ],
   "source": [
    "order_ship"
   ]
  },
  {
   "cell_type": "markdown",
   "id": "a2e96865",
   "metadata": {
    "papermill": {
     "duration": 0.027472,
     "end_time": "2023-06-22T11:47:50.730488",
     "exception": false,
     "start_time": "2023-06-22T11:47:50.703016",
     "status": "completed"
    },
    "tags": []
   },
   "source": [
    "**insight:- they have failed to ship maximum at 2015 and they have cleared 28 pending order at 2016**"
   ]
  },
  {
   "cell_type": "markdown",
   "id": "b36ab412",
   "metadata": {
    "papermill": {
     "duration": 0.028945,
     "end_time": "2023-06-22T11:47:50.787293",
     "exception": false,
     "start_time": "2023-06-22T11:47:50.758348",
     "status": "completed"
    },
    "tags": []
   },
   "source": [
    "# **top 10 highest buyer in their 4 years journey**"
   ]
  },
  {
   "cell_type": "code",
   "execution_count": 48,
   "id": "22c97840",
   "metadata": {
    "execution": {
     "iopub.execute_input": "2023-06-22T11:47:50.863805Z",
     "iopub.status.busy": "2023-06-22T11:47:50.863367Z",
     "iopub.status.idle": "2023-06-22T11:47:50.871925Z",
     "shell.execute_reply": "2023-06-22T11:47:50.870861Z"
    },
    "papermill": {
     "duration": 0.046722,
     "end_time": "2023-06-22T11:47:50.874366",
     "exception": false,
     "start_time": "2023-06-22T11:47:50.827644",
     "status": "completed"
    },
    "tags": []
   },
   "outputs": [],
   "source": [
    "high_buyer = pd.DataFrame(df['Customer Name'].value_counts())[0:10]"
   ]
  },
  {
   "cell_type": "code",
   "execution_count": 49,
   "id": "4e3f30a9",
   "metadata": {
    "execution": {
     "iopub.execute_input": "2023-06-22T11:47:50.932042Z",
     "iopub.status.busy": "2023-06-22T11:47:50.931670Z",
     "iopub.status.idle": "2023-06-22T11:47:51.213814Z",
     "shell.execute_reply": "2023-06-22T11:47:51.212632Z"
    },
    "papermill": {
     "duration": 0.314088,
     "end_time": "2023-06-22T11:47:51.216329",
     "exception": false,
     "start_time": "2023-06-22T11:47:50.902241",
     "status": "completed"
    },
    "tags": []
   },
   "outputs": [
    {
     "data": {
      "text/plain": [
       "<Axes: xlabel='Customer Name'>"
      ]
     },
     "execution_count": 49,
     "metadata": {},
     "output_type": "execute_result"
    },
    {
     "data": {
      "image/png": "[encoded data removed]",
      "text/plain": [
       "<Figure size 640x480 with 1 Axes>"
      ]
     },
     "metadata": {},
     "output_type": "display_data"
    }
   ],
   "source": [
    "sns.barplot(high_buyer , y = high_buyer.index , x = 'Customer Name')"
   ]
  },
  {
   "cell_type": "markdown",
   "id": "2805cda8",
   "metadata": {
    "papermill": {
     "duration": 0.028641,
     "end_time": "2023-06-22T11:47:51.274312",
     "exception": false,
     "start_time": "2023-06-22T11:47:51.245671",
     "status": "completed"
    },
    "tags": []
   },
   "source": [
    "# **top 10  city, state and region gives maximum sales**"
   ]
  },
  {
   "cell_type": "code",
   "execution_count": 50,
   "id": "ea13de8c",
   "metadata": {
    "execution": {
     "iopub.execute_input": "2023-06-22T11:47:51.333678Z",
     "iopub.status.busy": "2023-06-22T11:47:51.333202Z",
     "iopub.status.idle": "2023-06-22T11:47:51.343570Z",
     "shell.execute_reply": "2023-06-22T11:47:51.342443Z"
    },
    "papermill": {
     "duration": 0.042933,
     "end_time": "2023-06-22T11:47:51.345997",
     "exception": false,
     "start_time": "2023-06-22T11:47:51.303064",
     "status": "completed"
    },
    "tags": []
   },
   "outputs": [],
   "source": [
    "max_city_sales1 = pd.DataFrame(df.groupby('City')['Sales'].mean().sort_values(ascending = False))[0:10]"
   ]
  },
  {
   "cell_type": "code",
   "execution_count": 51,
   "id": "fe6eb215",
   "metadata": {
    "execution": {
     "iopub.execute_input": "2023-06-22T11:47:51.405264Z",
     "iopub.status.busy": "2023-06-22T11:47:51.404855Z",
     "iopub.status.idle": "2023-06-22T11:47:51.414947Z",
     "shell.execute_reply": "2023-06-22T11:47:51.414169Z"
    },
    "papermill": {
     "duration": 0.042236,
     "end_time": "2023-06-22T11:47:51.417013",
     "exception": false,
     "start_time": "2023-06-22T11:47:51.374777",
     "status": "completed"
    },
    "tags": []
   },
   "outputs": [
    {
     "data": {
      "text/html": [
       "<div>\n",
       "<style scoped>\n",
       "    .dataframe tbody tr th:only-of-type {\n",
       "        vertical-align: middle;\n",
       "    }\n",
       "\n",
       "    .dataframe tbody tr th {\n",
       "        vertical-align: top;\n",
       "    }\n",
       "\n",
       "    .dataframe thead th {\n",
       "        text-align: right;\n",
       "    }\n",
       "</style>\n",
       "<table border=\"1\" class=\"dataframe\">\n",
       "  <thead>\n",
       "    <tr style=\"text-align: right;\">\n",
       "      <th></th>\n",
       "      <th>Sales</th>\n",
       "    </tr>\n",
       "    <tr>\n",
       "      <th>City</th>\n",
       "      <th></th>\n",
       "    </tr>\n",
       "  </thead>\n",
       "  <tbody>\n",
       "    <tr>\n",
       "      <th>Jamestown</th>\n",
       "      <td>2354.395000</td>\n",
       "    </tr>\n",
       "    <tr>\n",
       "      <th>Cheyenne</th>\n",
       "      <td>1603.136000</td>\n",
       "    </tr>\n",
       "    <tr>\n",
       "      <th>Bellingham</th>\n",
       "      <td>1263.413333</td>\n",
       "    </tr>\n",
       "    <tr>\n",
       "      <th>Independence</th>\n",
       "      <td>1208.685000</td>\n",
       "    </tr>\n",
       "    <tr>\n",
       "      <th>Burbank</th>\n",
       "      <td>1082.386000</td>\n",
       "    </tr>\n",
       "    <tr>\n",
       "      <th>Buffalo</th>\n",
       "      <td>906.349600</td>\n",
       "    </tr>\n",
       "    <tr>\n",
       "      <th>Burlington</th>\n",
       "      <td>866.723280</td>\n",
       "    </tr>\n",
       "    <tr>\n",
       "      <th>Beverly</th>\n",
       "      <td>861.063333</td>\n",
       "    </tr>\n",
       "    <tr>\n",
       "      <th>Lafayette</th>\n",
       "      <td>860.147586</td>\n",
       "    </tr>\n",
       "    <tr>\n",
       "      <th>Sparks</th>\n",
       "      <td>853.986667</td>\n",
       "    </tr>\n",
       "  </tbody>\n",
       "</table>\n",
       "</div>"
      ],
      "text/plain": [
       "                    Sales\n",
       "City                     \n",
       "Jamestown     2354.395000\n",
       "Cheyenne      1603.136000\n",
       "Bellingham    1263.413333\n",
       "Independence  1208.685000\n",
       "Burbank       1082.386000\n",
       "Buffalo        906.349600\n",
       "Burlington     866.723280\n",
       "Beverly        861.063333\n",
       "Lafayette      860.147586\n",
       "Sparks         853.986667"
      ]
     },
     "execution_count": 51,
     "metadata": {},
     "output_type": "execute_result"
    }
   ],
   "source": [
    "max_city_sales1"
   ]
  },
  {
   "cell_type": "code",
   "execution_count": 52,
   "id": "592176b4",
   "metadata": {
    "execution": {
     "iopub.execute_input": "2023-06-22T11:47:51.477156Z",
     "iopub.status.busy": "2023-06-22T11:47:51.476409Z",
     "iopub.status.idle": "2023-06-22T11:47:51.484997Z",
     "shell.execute_reply": "2023-06-22T11:47:51.483790Z"
    },
    "papermill": {
     "duration": 0.041472,
     "end_time": "2023-06-22T11:47:51.487621",
     "exception": false,
     "start_time": "2023-06-22T11:47:51.446149",
     "status": "completed"
    },
    "tags": []
   },
   "outputs": [],
   "source": [
    "max_state_sales = pd.DataFrame(df.groupby('State')['Sales'].mean().sort_values(ascending = False))[0:10]"
   ]
  },
  {
   "cell_type": "code",
   "execution_count": 53,
   "id": "82a0e09c",
   "metadata": {
    "execution": {
     "iopub.execute_input": "2023-06-22T11:47:51.548020Z",
     "iopub.status.busy": "2023-06-22T11:47:51.547604Z",
     "iopub.status.idle": "2023-06-22T11:47:51.557772Z",
     "shell.execute_reply": "2023-06-22T11:47:51.556697Z"
    },
    "papermill": {
     "duration": 0.043906,
     "end_time": "2023-06-22T11:47:51.560183",
     "exception": false,
     "start_time": "2023-06-22T11:47:51.516277",
     "status": "completed"
    },
    "tags": []
   },
   "outputs": [
    {
     "data": {
      "text/html": [
       "<div>\n",
       "<style scoped>\n",
       "    .dataframe tbody tr th:only-of-type {\n",
       "        vertical-align: middle;\n",
       "    }\n",
       "\n",
       "    .dataframe tbody tr th {\n",
       "        vertical-align: top;\n",
       "    }\n",
       "\n",
       "    .dataframe thead th {\n",
       "        text-align: right;\n",
       "    }\n",
       "</style>\n",
       "<table border=\"1\" class=\"dataframe\">\n",
       "  <thead>\n",
       "    <tr style=\"text-align: right;\">\n",
       "      <th></th>\n",
       "      <th>Sales</th>\n",
       "    </tr>\n",
       "    <tr>\n",
       "      <th>State</th>\n",
       "      <th></th>\n",
       "    </tr>\n",
       "  </thead>\n",
       "  <tbody>\n",
       "    <tr>\n",
       "      <th>Wyoming</th>\n",
       "      <td>1603.136000</td>\n",
       "    </tr>\n",
       "    <tr>\n",
       "      <th>Vermont</th>\n",
       "      <td>811.760909</td>\n",
       "    </tr>\n",
       "    <tr>\n",
       "      <th>Nevada</th>\n",
       "      <td>428.951333</td>\n",
       "    </tr>\n",
       "    <tr>\n",
       "      <th>Rhode Island</th>\n",
       "      <td>409.545927</td>\n",
       "    </tr>\n",
       "    <tr>\n",
       "      <th>Montana</th>\n",
       "      <td>372.623467</td>\n",
       "    </tr>\n",
       "    <tr>\n",
       "      <th>Indiana</th>\n",
       "      <td>360.877037</td>\n",
       "    </tr>\n",
       "    <tr>\n",
       "      <th>Missouri</th>\n",
       "      <td>336.441667</td>\n",
       "    </tr>\n",
       "    <tr>\n",
       "      <th>Minnesota</th>\n",
       "      <td>335.541011</td>\n",
       "    </tr>\n",
       "    <tr>\n",
       "      <th>Alabama</th>\n",
       "      <td>319.846557</td>\n",
       "    </tr>\n",
       "    <tr>\n",
       "      <th>Virginia</th>\n",
       "      <td>315.342500</td>\n",
       "    </tr>\n",
       "  </tbody>\n",
       "</table>\n",
       "</div>"
      ],
      "text/plain": [
       "                    Sales\n",
       "State                    \n",
       "Wyoming       1603.136000\n",
       "Vermont        811.760909\n",
       "Nevada         428.951333\n",
       "Rhode Island   409.545927\n",
       "Montana        372.623467\n",
       "Indiana        360.877037\n",
       "Missouri       336.441667\n",
       "Minnesota      335.541011\n",
       "Alabama        319.846557\n",
       "Virginia       315.342500"
      ]
     },
     "execution_count": 53,
     "metadata": {},
     "output_type": "execute_result"
    }
   ],
   "source": [
    "max_state_sales"
   ]
  },
  {
   "cell_type": "code",
   "execution_count": 54,
   "id": "173eb1ce",
   "metadata": {
    "execution": {
     "iopub.execute_input": "2023-06-22T11:47:51.620892Z",
     "iopub.status.busy": "2023-06-22T11:47:51.620456Z",
     "iopub.status.idle": "2023-06-22T11:47:51.628581Z",
     "shell.execute_reply": "2023-06-22T11:47:51.627504Z"
    },
    "papermill": {
     "duration": 0.041152,
     "end_time": "2023-06-22T11:47:51.630870",
     "exception": false,
     "start_time": "2023-06-22T11:47:51.589718",
     "status": "completed"
    },
    "tags": []
   },
   "outputs": [],
   "source": [
    "max_zone_sales = pd.DataFrame(df.groupby('Region')['Sales'].mean().sort_values(ascending = False))"
   ]
  },
  {
   "cell_type": "code",
   "execution_count": 55,
   "id": "488a7380",
   "metadata": {
    "execution": {
     "iopub.execute_input": "2023-06-22T11:47:51.692329Z",
     "iopub.status.busy": "2023-06-22T11:47:51.691922Z",
     "iopub.status.idle": "2023-06-22T11:47:51.702454Z",
     "shell.execute_reply": "2023-06-22T11:47:51.701120Z"
    },
    "papermill": {
     "duration": 0.044541,
     "end_time": "2023-06-22T11:47:51.704665",
     "exception": false,
     "start_time": "2023-06-22T11:47:51.660124",
     "status": "completed"
    },
    "tags": []
   },
   "outputs": [
    {
     "data": {
      "text/html": [
       "<div>\n",
       "<style scoped>\n",
       "    .dataframe tbody tr th:only-of-type {\n",
       "        vertical-align: middle;\n",
       "    }\n",
       "\n",
       "    .dataframe tbody tr th {\n",
       "        vertical-align: top;\n",
       "    }\n",
       "\n",
       "    .dataframe thead th {\n",
       "        text-align: right;\n",
       "    }\n",
       "</style>\n",
       "<table border=\"1\" class=\"dataframe\">\n",
       "  <thead>\n",
       "    <tr style=\"text-align: right;\">\n",
       "      <th></th>\n",
       "      <th>Sales</th>\n",
       "    </tr>\n",
       "    <tr>\n",
       "      <th>Region</th>\n",
       "      <th></th>\n",
       "    </tr>\n",
       "  </thead>\n",
       "  <tbody>\n",
       "    <tr>\n",
       "      <th>South</th>\n",
       "      <td>243.524067</td>\n",
       "    </tr>\n",
       "    <tr>\n",
       "      <th>East</th>\n",
       "      <td>240.401697</td>\n",
       "    </tr>\n",
       "    <tr>\n",
       "      <th>West</th>\n",
       "      <td>226.184613</td>\n",
       "    </tr>\n",
       "    <tr>\n",
       "      <th>Central</th>\n",
       "      <td>216.357889</td>\n",
       "    </tr>\n",
       "  </tbody>\n",
       "</table>\n",
       "</div>"
      ],
      "text/plain": [
       "              Sales\n",
       "Region             \n",
       "South    243.524067\n",
       "East     240.401697\n",
       "West     226.184613\n",
       "Central  216.357889"
      ]
     },
     "execution_count": 55,
     "metadata": {},
     "output_type": "execute_result"
    }
   ],
   "source": [
    "max_zone_sales"
   ]
  },
  {
   "cell_type": "code",
   "execution_count": null,
   "id": "620101d2",
   "metadata": {
    "papermill": {
     "duration": 0.029252,
     "end_time": "2023-06-22T11:47:51.763077",
     "exception": false,
     "start_time": "2023-06-22T11:47:51.733825",
     "status": "completed"
    },
    "tags": []
   },
   "outputs": [],
   "source": []
  },
  {
   "cell_type": "code",
   "execution_count": null,
   "id": "880ac8f8",
   "metadata": {
    "papermill": {
     "duration": 0.029231,
     "end_time": "2023-06-22T11:47:51.823589",
     "exception": false,
     "start_time": "2023-06-22T11:47:51.794358",
     "status": "completed"
    },
    "tags": []
   },
   "outputs": [],
   "source": []
  }
 ],
 "metadata": {
  "kernelspec": {
   "display_name": "Python 3",
   "language": "python",
   "name": "python3"
  },
  "language_info": {
   "codemirror_mode": {
    "name": "ipython",
    "version": 3
   },
   "file_extension": ".py",
   "mimetype": "text/x-python",
   "name": "python",
   "nbconvert_exporter": "python",
   "pygments_lexer": "ipython3",
   "version": "3.10.10"
  },
  "papermill": {
   "default_parameters": {},
   "duration": 22.070952,
   "end_time": "2023-06-22T11:47:52.874699",
   "environment_variables": {},
   "exception": null,
   "input_path": "__notebook__.ipynb",
   "output_path": "__notebook__.ipynb",
   "parameters": {},
   "start_time": "2023-06-22T11:47:30.803747",
   "version": "2.4.0"
  }
 },
 "nbformat": 4,
 "nbformat_minor": 5
}
